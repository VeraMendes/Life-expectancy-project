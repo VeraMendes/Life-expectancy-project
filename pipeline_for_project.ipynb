{
  "nbformat": 4,
  "nbformat_minor": 0,
  "metadata": {
    "colab": {
      "name": "pipeline for project.ipynb",
      "provenance": [],
      "collapsed_sections": [],
      "include_colab_link": true
    },
    "kernelspec": {
      "name": "python3",
      "display_name": "Python 3"
    }
  },
  "cells": [
    {
      "cell_type": "markdown",
      "metadata": {
        "id": "view-in-github",
        "colab_type": "text"
      },
      "source": [
        "<a href=\"https://colab.research.google.com/github/VeraMendes/Life-expectancy-project/blob/master/pipeline_for_project.ipynb\" target=\"_parent\"><img src=\"https://colab.research.google.com/assets/colab-badge.svg\" alt=\"Open In Colab\"/></a>"
      ]
    },
    {
      "cell_type": "code",
      "metadata": {
        "id": "wh85-kyN2rSF",
        "colab_type": "code",
        "colab": {
          "base_uri": "https://localhost:8080/",
          "height": 283
        },
        "outputId": "804caa89-ebf7-4353-ae1f-f2ee1b629c4d"
      },
      "source": [
        "!pip install category_encoders==2.*"
      ],
      "execution_count": 2,
      "outputs": [
        {
          "output_type": "stream",
          "text": [
            "Collecting category_encoders==2.*\n",
            "\u001b[?25l  Downloading https://files.pythonhosted.org/packages/a0/52/c54191ad3782de633ea3d6ee3bb2837bda0cf3bc97644bb6375cf14150a0/category_encoders-2.1.0-py2.py3-none-any.whl (100kB)\n",
            "\r\u001b[K     |███▎                            | 10kB 14.3MB/s eta 0:00:01\r\u001b[K     |██████▌                         | 20kB 3.4MB/s eta 0:00:01\r\u001b[K     |█████████▉                      | 30kB 4.9MB/s eta 0:00:01\r\u001b[K     |█████████████                   | 40kB 3.1MB/s eta 0:00:01\r\u001b[K     |████████████████▍               | 51kB 3.8MB/s eta 0:00:01\r\u001b[K     |███████████████████▋            | 61kB 4.5MB/s eta 0:00:01\r\u001b[K     |██████████████████████▉         | 71kB 5.1MB/s eta 0:00:01\r\u001b[K     |██████████████████████████▏     | 81kB 5.8MB/s eta 0:00:01\r\u001b[K     |█████████████████████████████▍  | 92kB 6.4MB/s eta 0:00:01\r\u001b[K     |████████████████████████████████| 102kB 3.1MB/s \n",
            "\u001b[?25hRequirement already satisfied: statsmodels>=0.6.1 in /usr/local/lib/python3.6/dist-packages (from category_encoders==2.*) (0.10.1)\n",
            "Requirement already satisfied: patsy>=0.4.1 in /usr/local/lib/python3.6/dist-packages (from category_encoders==2.*) (0.5.1)\n",
            "Requirement already satisfied: scipy>=0.19.0 in /usr/local/lib/python3.6/dist-packages (from category_encoders==2.*) (1.3.1)\n",
            "Requirement already satisfied: scikit-learn>=0.20.0 in /usr/local/lib/python3.6/dist-packages (from category_encoders==2.*) (0.21.3)\n",
            "Requirement already satisfied: pandas>=0.21.1 in /usr/local/lib/python3.6/dist-packages (from category_encoders==2.*) (0.25.2)\n",
            "Requirement already satisfied: numpy>=1.11.3 in /usr/local/lib/python3.6/dist-packages (from category_encoders==2.*) (1.17.3)\n",
            "Requirement already satisfied: six in /usr/local/lib/python3.6/dist-packages (from patsy>=0.4.1->category_encoders==2.*) (1.12.0)\n",
            "Requirement already satisfied: joblib>=0.11 in /usr/local/lib/python3.6/dist-packages (from scikit-learn>=0.20.0->category_encoders==2.*) (0.14.0)\n",
            "Requirement already satisfied: python-dateutil>=2.6.1 in /usr/local/lib/python3.6/dist-packages (from pandas>=0.21.1->category_encoders==2.*) (2.6.1)\n",
            "Requirement already satisfied: pytz>=2017.2 in /usr/local/lib/python3.6/dist-packages (from pandas>=0.21.1->category_encoders==2.*) (2018.9)\n",
            "Installing collected packages: category-encoders\n",
            "Successfully installed category-encoders-2.1.0\n"
          ],
          "name": "stdout"
        }
      ]
    },
    {
      "cell_type": "code",
      "metadata": {
        "id": "DqnN-GbrzgeH",
        "colab_type": "code",
        "colab": {
          "base_uri": "https://localhost:8080/",
          "height": 176
        },
        "outputId": "4b3d7638-c4b5-4534-a048-f515735a1b07"
      },
      "source": [
        "import category_encoders as ce\n",
        "import plotly.express as px\n",
        "from sklearn.linear_model import LinearRegression\n",
        "from sklearn.pipeline import make_pipeline\n",
        "import pandas as pd\n",
        "\n",
        "df=pd.read_csv('https://raw.githubusercontent.com/VeraMendes/Project---Train-a-predictive-model/master/led.csv')\n",
        "# changing my column names\n",
        "df = df.rename(columns = {\n",
        "    'Country':'country','Year':'year', 'Status':'development','Lifeexpectancy':'lifespan',\n",
        "    'AdultMortality':'adult_mortality', 'infantdeaths':'infant_deaths',\n",
        "    'Alcohol':'alcohol_consumption', 'percentageexpenditure':'percentage_expenditure',\n",
        "    'HepatitisB':'hepatitisb','Measles':'measles','BMI':'BMI','under-fivedeaths':'baby_deaths',\n",
        "    'Polio':'polio', 'Totalexpenditure':'total_expenditure','Diphtheria':'diphtheria','HIV/AIDS':'HIV',\n",
        "    'GDP':'GDP','Population':'population','thinness1-19years':'thinness_teenager',\n",
        "    'thinness5-9years':'thinness_children','Incomecompositionofresources':'ICR','Schooling':'education'\n",
        "})\n",
        "df = df.dropna(axis=0, subset=['lifespan'])\n",
        "df['next_year_lifespan']= df['lifespan'].shift(1)\n",
        "year_2015 = df[df.year == 2015]\n",
        "df = df[df.year != 2015]\n",
        "train = df[df['year']<2011]\n",
        "\n",
        "# choosing my X features matrix & defining my y target vector\n",
        "target = 'next_year_lifespan'\n",
        "X_train = train['lifespan']\n",
        "y_train = train['next_year_lifespan']\n",
        "\n",
        "pipeline = make_pipeline(\n",
        "    ce.OrdinalEncoder(),  \n",
        "    LinearRegression()\n",
        ")\n",
        "\n",
        "pipeline.fit(X_train, y_train)"
      ],
      "execution_count": 8,
      "outputs": [
        {
          "output_type": "execute_result",
          "data": {
            "text/plain": [
              "Pipeline(memory=None,\n",
              "         steps=[('ordinalencoder',\n",
              "                 OrdinalEncoder(cols=[], drop_invariant=False,\n",
              "                                handle_missing='value', handle_unknown='value',\n",
              "                                mapping=[], return_df=True, verbose=0)),\n",
              "                ('linearregression',\n",
              "                 LinearRegression(copy_X=True, fit_intercept=True, n_jobs=None,\n",
              "                                  normalize=False))],\n",
              "         verbose=False)"
            ]
          },
          "metadata": {
            "tags": []
          },
          "execution_count": 8
        }
      ]
    },
    {
      "cell_type": "code",
      "metadata": {
        "id": "vfrCkstb2zz8",
        "colab_type": "code",
        "colab": {
          "base_uri": "https://localhost:8080/",
          "height": 34
        },
        "outputId": "e07c4f2d-dc57-4079-9c07-6464b2b57eec"
      },
      "source": [
        "from joblib import dump\n",
        "dump(pipeline, 'pipeline.joblib', compress=True)"
      ],
      "execution_count": 4,
      "outputs": [
        {
          "output_type": "execute_result",
          "data": {
            "text/plain": [
              "['pipeline.joblib']"
            ]
          },
          "metadata": {
            "tags": []
          },
          "execution_count": 4
        }
      ]
    },
    {
      "cell_type": "code",
      "metadata": {
        "id": "o0TunBD2BX_7",
        "colab_type": "code",
        "colab": {}
      },
      "source": [
        "def predict(lifespan):\n",
        "  df = pd.DataFrame(\n",
        "      columns=['lifespan'],\n",
        "      data=[[lifespan]]\n",
        "  )\n",
        "  y_pred = pipeline.predict(df)[0]\n",
        "  return f'{y_pred:.0f} years'"
      ],
      "execution_count": 0,
      "outputs": []
    },
    {
      "cell_type": "code",
      "metadata": {
        "id": "0lkeBUphIrZK",
        "colab_type": "code",
        "colab": {
          "base_uri": "https://localhost:8080/",
          "height": 34
        },
        "outputId": "374c9592-41dc-4c2e-dbe6-5b3959b333c7"
      },
      "source": [
        "predict(62)"
      ],
      "execution_count": 12,
      "outputs": [
        {
          "output_type": "execute_result",
          "data": {
            "text/plain": [
              "'63 years'"
            ]
          },
          "metadata": {
            "tags": []
          },
          "execution_count": 12
        }
      ]
    }
  ]
}